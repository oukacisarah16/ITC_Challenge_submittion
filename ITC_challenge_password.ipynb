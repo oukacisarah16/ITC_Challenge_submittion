{
  "nbformat": 4,
  "nbformat_minor": 0,
  "metadata": {
    "colab": {
      "provenance": []
    },
    "kernelspec": {
      "name": "python3",
      "display_name": "Python 3"
    },
    "language_info": {
      "name": "python"
    }
  },
  "cells": [
    {
      "cell_type": "markdown",
      "source": [
        "# **Password Strongth Checker**"
      ],
      "metadata": {
        "id": "QNEv4EwGpBSx"
      }
    },
    {
      "cell_type": "markdown",
      "source": [
        "**Solution algorithm**"
      ],
      "metadata": {
        "id": "cg_fo7GiTgRI"
      }
    },
    {
      "cell_type": "code",
      "source": [
        "def check_password_strength (password,name,first_name,birthday_year,phone_number,name_mom,name_dad,name_siblings,name_friends,name_pet) :\n",
        "\n",
        "  spec_char = ['!','§','?','/',';','*','+','-','@','=','[',']','{','}','&',':','`','~']\n",
        "\n",
        "  #verify inclusion of lowercase letters\n",
        "  lower_let_cond = any(char.islower() for char in password)\n",
        "\n",
        "  #verify inclusion of capital letters\n",
        "  capital_let_cond = any(char.islower() for char in password)\n",
        "\n",
        "  #verify inclusion of digits\n",
        "  number_cond = any(char.isdigit() for char in password)\n",
        "\n",
        "  #verify inclusion of special caracthers\n",
        "  spec_char_cond =any(char in password for char in spec_char)\n",
        "\n",
        "  #verify the existance of persional information\n",
        "  personal_info_cond= name.lower() in password.lower() or first_name.lower() in password.lower() or phone_number.lower() in password.lower() or birthday_year.lower() in password.lower() or name_mom.lower() in password.lower() or name_dad.lower() in password.lower()\n",
        "\n",
        "  #verify the existance of specefic persional information\n",
        "  def personal_info_cond_priv(password,name_siblings,name_friends,name_pet) :\n",
        "    cond_sib=False\n",
        "    if name_siblings :\n",
        "      for i in range(0,len(name_siblings)-1) :\n",
        "        if(name_siblings[i].lower() in password.lower()):\n",
        "          cond_sib=True\n",
        "    else : cond_sib=False\n",
        "\n",
        "    cond_frnd=False\n",
        "    if name_friends :\n",
        "        for i in range(0,len(name_friends)-1) :\n",
        "          print(i)\n",
        "          if(name_friends[i].lower() in password.lower()):\n",
        "            cond_frnd=True\n",
        "    else : cond_frnd=False\n",
        "\n",
        "    result= cond_sib or cond_frnd or name_pet.lower() in password.lower()\n",
        "    print(result)\n",
        "    return result\n",
        "\n",
        "  #verify the existance of repeated char\n",
        "  def repeat_char(password) :\n",
        "   rept_char=False\n",
        "   for i in range(len(password) - 1):\n",
        "        if password[i] == password[i+1]:\n",
        "            rept_char=True\n",
        "   return rept_char\n",
        "\n",
        "  #verify the existance of sequential char\n",
        "  def sequential(password) :\n",
        "    import string\n",
        "    seq=True\n",
        "    numbers = [i for i in range(1, len(password)+1)]\n",
        "    alphabet = list(string.ascii_lowercase)\n",
        "    for i in range(len(password) -1):\n",
        "      if password[i] != numbers[i] :\n",
        "          seq=False\n",
        "    for i in range(len(password) -1):\n",
        "      if password[i] != alphabet[i] :\n",
        "          seq=False\n",
        "    return seq\n",
        "\n",
        "  #verify the existance of current passwords\n",
        "  def current_pass_cond(password) :\n",
        "      current_passwords = [\"mama\",\"papa\",\"password\",\"admin\",\"mom\",\"dad\",\"friend\",\"sister\",\"brother\"]\n",
        "      for i in range(len(current_passwords) -1):\n",
        "        if (current_passwords[i].lower() in password.lower()) :\n",
        "          return True\n",
        "      return False\n",
        "\n",
        "\n",
        "  if all([len(password)<8 , password.islower() , repeat_char(password)]):\n",
        "    return \"Weak\"\n",
        "  elif all([len(password)<8 , password.islower()]) :\n",
        "    return \"Weak\"\n",
        "  elif len(password)<8 :\n",
        "    return \"Weak\"\n",
        "  elif all([len(password)<12 , password.islower() , repeat_char(password)])\n",
        "    return \"Weak\"\n",
        "  elif all([len(password)<12 , lower_let_cond , capital_let_cond , number_cond , spec_char_cond , not(repeat_char(password))]) :\n",
        "    return \"Moderate\"\n",
        "  elif all([len(password)<16, lower_let_cond , capital_let_cond , number_cond , spec_char_cond , not(repeat_char(password))]) :\n",
        "    return \"Moderate\"\n",
        "  elif all([len(password)<16 , lower_let_cond , capital_let_cond , number_cond , spec_char_cond , not(repeat_char(password)) , not(personal_info_cond) , not(sequential(password))]):\n",
        "    return \"Strong\"\n",
        "  elif all([len(password)<=16 , lower_let_cond , capital_let_cond , number_cond , spec_char_cond , not(repeat_char(password)) , not(personal_info_cond) , not(sequential(password))]):\n",
        "    return \"Strong\"\n",
        "  elif all([len(password)>=16 , lower_let_cond , capital_let_cond , number_cond , spec_char_cond , not(repeat_char(password)) , not(personal_info_cond) , not(sequential(password)) , not(current_pass_cond(password)) , not(personal_info_cond_priv(password,name_siblings,name_friends,name_pet))]):\n",
        "    return \"Very Strong\"\n",
        "  else\n",
        "    return \"Weak\"\n",
        "\n",
        "\n",
        "\n",
        "\n"
      ],
      "metadata": {
        "id": "fu8SB0_Npfmt"
      },
      "execution_count": 95,
      "outputs": []
    },
    {
      "cell_type": "markdown",
      "source": [
        "**Execution part**"
      ],
      "metadata": {
        "id": "C-QnfHccTt-h"
      }
    },
    {
      "cell_type": "code",
      "source": [
        "name = input(\"Enter your name : \")\n",
        "first_name = input(\"Enter your first name : \")\n",
        "phone_numb = input(\"Enter your personal phone number : \")\n",
        "birthday_year = input(\"Enter your birthday year : \")\n",
        "mom_name = input(\"Enter your mom name : \")\n",
        "dad_name = input(\"Enter your dad name : \")\n",
        "name_siblings = input(\"Enter your siblings names (seperated with space) : \")\n",
        "name_siblings = name_siblings.split() #about space\n",
        "#print(\"Vector s:\", name_siblings[0])\n",
        "name_friends = input(\"Enter your friends names (seperated with space) : \")\n",
        "name_friends = name_friends.split()\n",
        "#print(\"Vector f:\", name_friends[0])\n",
        "name_pet = input(\"Enter your pet name : \")\n",
        "\n",
        "password = input(\"Enter your password : \")\n",
        "\n",
        "if(name_friends[0].lower() in password.lower()):\n",
        "   print(\"True\")\n",
        "else :\n",
        "   print(False)\n",
        "\n",
        "strength = check_password_strength(password,name,first_name,birthday_year,phone_numb,mom_name,dad_name,name_siblings,name_friends,name_pet)\n",
        "\n",
        "print(\"\\nyour password is {} !!\".format(strength))\n"
      ],
      "metadata": {
        "colab": {
          "base_uri": "https://localhost:8080/"
        },
        "id": "kjbtRNMFC4dU",
        "outputId": "ea880972-4d2b-43bc-a52b-666ca1b6a612"
      },
      "execution_count": 96,
      "outputs": [
        {
          "output_type": "stream",
          "name": "stdout",
          "text": [
            "Enter your name : sarah\n",
            "Enter your first name : oukaci\n",
            "Enter your personal phone number : 0797763409\n",
            "Enter your birthday year : 2003\n",
            "Enter your mom name : mouni\n",
            "Enter your dad name : samir\n",
            "Enter your siblings names (seperated with space) : chaima yasmine\n",
            "Enter your friends names (seperated with space) : Faiza Rania\n",
            "Enter your pet name : Faizagjugieu50!p\n",
            "Enter your password : Faizagjugieu50?m\n",
            "True\n",
            "0\n",
            "True\n",
            "\n",
            "your password is None !!\n"
          ]
        }
      ]
    }
  ]
}